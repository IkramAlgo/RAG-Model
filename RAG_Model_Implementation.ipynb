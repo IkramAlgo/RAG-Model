{
  "nbformat": 4,
  "nbformat_minor": 0,
  "metadata": {
    "colab": {
      "provenance": [],
      "authorship_tag": "ABX9TyMkmqjjPLulXATNYlEHvvqh",
      "include_colab_link": true
    },
    "kernelspec": {
      "name": "python3",
      "display_name": "Python 3"
    },
    "language_info": {
      "name": "python"
    }
  },
  "cells": [
    {
      "cell_type": "markdown",
      "metadata": {
        "id": "view-in-github",
        "colab_type": "text"
      },
      "source": [
        "<a href=\"https://colab.research.google.com/github/IkramAlgo/RAG-Model/blob/main/RAG_Model_Implementation.ipynb\" target=\"_parent\"><img src=\"https://colab.research.google.com/assets/colab-badge.svg\" alt=\"Open In Colab\"/></a>"
      ]
    },
    {
      "cell_type": "code",
      "execution_count": null,
      "metadata": {
        "collapsed": true,
        "id": "pvd0BUY01G3T"
      },
      "outputs": [],
      "source": [
        "from transformers import AutoModelForSeq2SeqLM, AutoTokenizer\n",
        "import torch\n",
        "\n",
        "# ✅ Load a better model for more accurate answers\n",
        "model_name = \"google/flan-t5-xl\"  # Use 'flan-t5-xl' instead of 'flan-t5-small' or 'large'\n",
        "tokenizer = AutoTokenizer.from_pretrained(model_name)\n",
        "model = AutoModelForSeq2SeqLM.from_pretrained(model_name)\n",
        "\n",
        "# ✅ Move model to CPU (or GPU if available)\n",
        "device = \"cuda\" if torch.cuda.is_available() else \"cpu\"\n",
        "model.to(device)\n",
        "\n",
        "# ✅ Function to Generate More Accurate Answers\n",
        "def generate_response(question):\n",
        "    # Improved prompt format for factual accuracy\n",
        "    input_text = f\"Provide a factual answer based on general knowledge.\\nQuestion: {question}\\nAnswer:\"\n",
        "\n",
        "    inputs = tokenizer(input_text, return_tensors=\"pt\").to(device)\n",
        "\n",
        "    with torch.no_grad():\n",
        "        outputs = model.generate(\n",
        "            **inputs,\n",
        "            max_length=100,\n",
        "            num_beams=5,  # Beam search for better accuracy\n",
        "            early_stopping=True\n",
        "        )\n",
        "\n",
        "    return tokenizer.decode(outputs[0], skip_special_tokens=True)\n",
        "\n",
        "# ✅ Interactive Chat\n",
        "print(\"🤖 AI Chatbot (Type 'exit' to quit)\")\n",
        "while True:\n",
        "    question = input(\"\\nYou: \")  # User enters question\n",
        "\n",
        "    if question.lower() == \"exit\":\n",
        "        print(\"Goodbye! 👋\")\n",
        "        break\n",
        "\n",
        "    response = generate_response(question)\n",
        "    print(\"AI:\", response)\n"
      ]
    }
  ]
}